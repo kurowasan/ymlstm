{
 "cells": [
  {
   "cell_type": "code",
   "execution_count": 1,
   "metadata": {
    "collapsed": false
   },
   "outputs": [],
   "source": [
    "text_file = open(\"jokes.txt\", \"r\")\n",
    "text= text_file.read()\n",
    "text_file.close()"
   ]
  },
  {
   "cell_type": "code",
   "execution_count": 9,
   "metadata": {
    "collapsed": false
   },
   "outputs": [
    {
     "data": {
      "text/plain": [
       "'Yo mama so bald even a wig wouldn\\'t help! Yo mama so bald you can see whats on her mind Yo mama so bald that she took a shower and got brain-washed. Yo mama\\'s so bald her hair looks like stitches. Yo mama\\'s so bald she curls her hair with rice. Yo momma is so bald and talented she can blow dry her hair answer yes to all your questions and give head at the same time Yo mama\\'s so bald, Mr. Clean got jealous. Yo mama\\'s so bald, that when she put on a sweater, folk thought she was a roll on deoderant! Yo mama\\'s so bald, when she braids her hair, it remind me of stitches. Yo mama\\'s so bald, when she goes to bed, her head slips off the pillow. yo mama is so bald that when she stood near a wall Lil wayne sang \"Mirror On The Wall\" Yo mama so bald, I could polish her head and take her bowling. Yo mama soo bald even the hairdressers used her head for a mirror Yo momma so bald, you can play Air Hockey on her head. Yo mama so bald that Vin Diesel thought she was his twin. Yo Moma is so bald, that '"
      ]
     },
     "execution_count": 9,
     "metadata": {},
     "output_type": "execute_result"
    }
   ],
   "source": [
    "text[0:1000]"
   ]
  },
  {
   "cell_type": "code",
   "execution_count": 3,
   "metadata": {
    "collapsed": false
   },
   "outputs": [],
   "source": [
    "import string\n",
    "import re\n",
    "\n",
    "# remove multiple spaces and punctuation except for \"'\"\n",
    "punctuation = string.punctuation\n",
    "punctuation = punctuation.replace(\"'\",'')\n",
    "\n",
    "words = re.sub('[' + punctuation + ']', ' ', text)\n",
    "words = re.sub(' {2,}', ' ', words)\n",
    "words = words.split(' ')"
   ]
  },
  {
   "cell_type": "code",
   "execution_count": 11,
   "metadata": {
    "collapsed": false
   },
   "outputs": [
    {
     "data": {
      "text/plain": [
       "['Yo', 'mama', 'so', 'bald', 'even', 'a', 'wig', \"wouldn't\", 'help', 'Yo']"
      ]
     },
     "execution_count": 11,
     "metadata": {},
     "output_type": "execute_result"
    }
   ],
   "source": [
    "words[0:10]"
   ]
  },
  {
   "cell_type": "code",
   "execution_count": 13,
   "metadata": {
    "collapsed": true
   },
   "outputs": [],
   "source": [
    "\n",
    "unique_word = list(set(words))"
   ]
  },
  {
   "cell_type": "code",
   "execution_count": 15,
   "metadata": {
    "collapsed": false
   },
   "outputs": [
    {
     "name": "stdout",
     "output_type": "stream",
     "text": [
      "19048\n",
      "3046\n"
     ]
    }
   ],
   "source": [
    "print(len(words))\n",
    "print(len(unique_word))"
   ]
  },
  {
   "cell_type": "code",
   "execution_count": null,
   "metadata": {
    "collapsed": true
   },
   "outputs": [],
   "source": []
  }
 ],
 "metadata": {
  "kernelspec": {
   "display_name": "Python 3",
   "language": "python",
   "name": "python3"
  },
  "language_info": {
   "codemirror_mode": {
    "name": "ipython",
    "version": 3
   },
   "file_extension": ".py",
   "mimetype": "text/x-python",
   "name": "python",
   "nbconvert_exporter": "python",
   "pygments_lexer": "ipython3",
   "version": "3.4.3"
  }
 },
 "nbformat": 4,
 "nbformat_minor": 0
}
